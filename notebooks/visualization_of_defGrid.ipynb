{
 "cells": [
  {
   "cell_type": "markdown",
   "metadata": {},
   "source": [
    "### Deformation Field Overlaying into the Moving Image"
   ]
  },
  {
   "cell_type": "code",
   "execution_count": 1,
   "metadata": {},
   "outputs": [],
   "source": [
    "import os\n",
    "import numpy as np\n",
    "import nibabel as nib\n",
    "import matplotlib.pyplot as plt\n",
    "from   natsort import natsorted\n",
    "from   scipy.ndimage import gaussian_filter, map_coordinates"
   ]
  },
  {
   "cell_type": "code",
   "execution_count": 2,
   "metadata": {},
   "outputs": [],
   "source": [
    "# Function to get the deformation field and moving images\n",
    "def get_file_paths(directory):\n",
    "    file_types = {\n",
    "        'img1.nii.gz'   : [],\n",
    "        'img2.nii.gz'   : [],\n",
    "        'seg2.nii.gz'   : [],\n",
    "        'w_img.nii.gz'  : [],\n",
    "        'w_seg.nii.gz'  : [],\n",
    "        'flow_4d.nii.gz': [],\n",
    "        \n",
    "    }\n",
    "    \n",
    "    for filename in os.listdir(directory):\n",
    "        for file_suffix in file_types:\n",
    "            if filename.endswith(file_suffix):\n",
    "                file_types[file_suffix].append(os.path.join(directory, filename))\n",
    "                break\n",
    "    for key in file_types:\n",
    "        file_types[key] = natsorted(file_types[key])\n",
    "    \n",
    "    return file_types"
   ]
  },
  {
   "cell_type": "code",
   "execution_count": 3,
   "metadata": {},
   "outputs": [],
   "source": [
    "def load_nifti_image(file_path):\n",
    "    nii   = nib.load(file_path)\n",
    "    image = nii.get_fdata()\n",
    "    return image, nii.affine"
   ]
  },
  {
   "cell_type": "code",
   "execution_count": 4,
   "metadata": {},
   "outputs": [],
   "source": [
    "def load_deformation_field(file_path):\n",
    "    nii = nib.load(file_path)\n",
    "    deformation_field = nii.get_fdata()\n",
    "    return deformation_field"
   ]
  },
  {
   "cell_type": "code",
   "execution_count": null,
   "metadata": {},
   "outputs": [],
   "source": [
    "def get_ct_views(ct_scan):\n",
    "     # ct_scan: shape (192, 160, 256) => (z, y, x)\n",
    "    \n",
    "    # Axial view: Slices along the z-axis, output shape (160, 256) per slice\n",
    "    axial_slices = [ct_scan[i, :, :] for i in range(ct_scan.shape[0])]\n",
    "    \n",
    "    # Sagittal view: Slices along the x-axis, output shape (192, 160) per slice\n",
    "    sagittal_slices = [ct_scan[:, :, i] for i in range(ct_scan.shape[2])]\n",
    "    \n",
    "    # Coronal view: Slices along the y-axis, output shape (192, 256) per slice\n",
    "    coronal_slices = [ct_scan[:, i, :] for i in range(ct_scan.shape[1])]\n",
    "    \n",
    "    return axial_slices, sagittal_slices, coronal_slices"
   ]
  },
  {
   "cell_type": "code",
   "execution_count": null,
   "metadata": {},
   "outputs": [],
   "source": [
    "def get_deformation_field_views(deformation_field):\n",
    "    # deformation_field: shape (192, 160, 256, 3)\n",
    "    \n",
    "    # Axial view: Take slices along the z-axis (displacement in x and y directions)\n",
    "    axial_deformation = [deformation_field[i, :, :, :2] for i in range(deformation_field.shape[0])]  # (160, 256, 2) per slice\n",
    "    \n",
    "    # Sagittal view: Take slices along the x-axis (displacement in y and z directions)\n",
    "    sagittal_deformation = [deformation_field[:, :, i, 1:] for i in range(deformation_field.shape[2])]  # (192, 160, 2) per slice\n",
    "    \n",
    "    # Coronal view: Take slices along the y-axis (displacement in x and z directions)\n",
    "    coronal_deformation = [deformation_field[:, i, :, ::2] for i in range(deformation_field.shape[1])]  # (192, 256, 2) per slice\n",
    "    \n",
    "    return axial_deformation, sagittal_deformation, coronal_deformation"
   ]
  },
  {
   "cell_type": "code",
   "execution_count": 5,
   "metadata": {},
   "outputs": [],
   "source": [
    "def draw_grid(image, grid_spacing=10, grid_value=1):\n",
    "    grid_image = np.zeros(image.shape)\n",
    "    # Drawing the vertical and horizontal lines\n",
    "    grid_image[:, ::grid_spacing] = grid_value\n",
    "    grid_image[::grid_spacing, :] = grid_value\n",
    "    return grid_image"
   ]
  },
  {
   "cell_type": "code",
   "execution_count": 7,
   "metadata": {},
   "outputs": [],
   "source": [
    "def blur_grid(grid_image, sigma=0.25):\n",
    "    blurred_grid = gaussian_filter(grid_image, sigma=sigma)\n",
    "    return blurred_grid"
   ]
  },
  {
   "cell_type": "code",
   "execution_count": 8,
   "metadata": {},
   "outputs": [],
   "source": [
    "def add_grid_to_image(image, grid_image):\n",
    "    modified_image = image + grid_image\n",
    "    return modified_image"
   ]
  },
  {
   "cell_type": "code",
   "execution_count": 9,
   "metadata": {},
   "outputs": [],
   "source": [
    "def apply_deformation(image, deformation_field):\n",
    "    \n",
    "    # Create a meshgrid of coordinates\n",
    "    coords = np.meshgrid(np.arange(image.shape[0]), \n",
    "                         np.arange(image.shape[1]), \n",
    "                         indexing='ij')\n",
    "    coords = np.array(coords)\n",
    "   \n",
    "    \n",
    "    # Apply the deformation field to the coordinates\n",
    "    deformed_coords_0 = coords[0] + deformation_field[..., 0]\n",
    "    deformed_coords_1 = coords[1] + deformation_field[..., 1]\n",
    "    \n",
    "    # Interpolate the image at the new coordinates\n",
    "    warped_image = map_coordinates(image, [deformed_coords_0, deformed_coords_1], order=1)\n",
    "    return warped_image"
   ]
  },
  {
   "cell_type": "code",
   "execution_count": 10,
   "metadata": {},
   "outputs": [],
   "source": [
    "# Function to visualize slices\n",
    "def visualize_slices(data, title=\"Image Slices\", slices=None):\n",
    "    \"\"\"\n",
    "    Visualizes slices of a 3D image.\n",
    "\n",
    "    Parameters:\n",
    "    - data: 3D numpy array representing the image data.\n",
    "    - title: Title for the plot.\n",
    "    - slices: Tuple of three integers representing the indices of the slices \n",
    "              to visualize in the axial, coronal, and sagittal planes. \n",
    "              If None, the middle slices are used.\n",
    "    \"\"\"\n",
    "    #if slices is None:\n",
    "    #    slices = (data.shape[0] // 2, data.shape[1] // 2, data.shape[2] // 2)\n",
    "    slice_x = data.shape[0]\n",
    "    slice_y = data.shape[1]\n",
    "\n",
    "\n",
    "    fig, axes = plt.subplots(1, 3, figsize=(15, 5))\n",
    "    fig.suptitle(title)\n",
    "\n",
    "    # Axial slice (viewed from the top of the head)\n",
    "    axes[0].imshow(data[slices[0], :, :].T, cmap='gray', origin='lower')\n",
    "    axes[0].set_title(f'Sagital slice {slices[0]}')\n",
    "    \n",
    "    # Coronal slice (viewed from the front)\n",
    "    axes[1].imshow(data[:, slices[1], :].T, cmap='gray', origin='lower')\n",
    "    axes[1].set_title(f'Coronal slice {slices[1]}')\n",
    "\n",
    "    # Sagittal slice (viewed from the side)\n",
    "    axes[2].imshow(data[:, :, slices[2]].T, cmap='gray', origin='lower')\n",
    "    axes[2].set_title(f'Axial slice {slices[2]}')\n",
    "    plt.show()"
   ]
  },
  {
   "cell_type": "code",
   "execution_count": 11,
   "metadata": {},
   "outputs": [],
   "source": [
    "def main(image_path, seg_path, warp_img_path, warp_seg_path, deformation_path, output_path, grid_spacing=10, sigma=0.5):\n",
    "    # Step1: Loading the moving image and the deformation field in 4d\n",
    "    image, affine    = load_nifti_image(image_path)\n",
    "    segm,  affine    = load_nifti_image(seg_path)\n",
    "    warpped_image, _ = load_nifti_image(warp_img_path)\n",
    "    warpped_segm,  _ = load_nifti_image(warp_seg_path)\n",
    "    def_field_4d     = load_deformation_field(deformation_path)\n",
    "    print('image: ', image.shape)\n",
    "    print('segm: ', segm.shape)\n",
    "    print('warped img: ', warpped_image.shape)\n",
    "    print('warped segm: ', warpped_segm.shape)\n",
    "    print('def_field_4d: ', def_field_4d.shape)\n",
    "    \n",
    "    # Step2: Drawing and bluring the grid\n",
    "    grid_ax, grid_sa, grid_co = draw_grid_on_views(image, grid_spacing=grid_spacing)\n",
    "    blur_ax = blur_grid(grid_ax, sigma=sigma)\n",
    "    blur_sa = blur_grid(grid_sa, sigma=sigma)\n",
    "    blur_co = blur_grid(grid_co, sigma=sigma)\n",
    "    print(grid_ax.shape)\n",
    "    print(grid_sa.shape)\n",
    "    print(grid_co.shape)\n",
    "    print(blur_co.shape)\n",
    "\n",
    "    # Step3: Adding the grid to the moving image\n",
    "    '''modified_image = add_grid_to_image(image, blurred_grid)\n",
    "    modified_segm  = add_grid_to_image(segm, blurred_grid)\n",
    "    \n",
    "    # Step4: Applying the deformation field to the moving image\n",
    "    warped_image = apply_deformation(modified_image, def_field_4d)\n",
    "    warped_segm  = apply_deformation(modified_segm, def_field_4d)\n",
    "    \n",
    "    # Step5: Visualizing moving image outputs\n",
    "    visualize_slices(image, title='Moving Image')\n",
    "    visualize_slices(blurred_grid, title='Blurred Image')\n",
    "    visualize_slices(modified_image, title='Moving Image with Blurred Grid')\n",
    "    visualize_slices(warped_image,   title='Deformed Moving Image with Blurred Grid')\n",
    "    visualize_slices(warpped_image,   title='Deformed Moving Image - Output Model')\n",
    "    \n",
    "    # Step6: Visualizing moving segmentation outputs\n",
    "    visualize_slices(segm, title='Moving Segmenation')\n",
    "    visualize_slices(modified_segm, title='Moving Segmentation with Blurred Grid')\n",
    "    visualize_slices(warped_segm,   title='Deformed Moving Segmentation with Blurred Grid')\n",
    "    visualize_slices(warpped_segm,   title='Deformed Moving Segmentation - Output Model')'''\n",
    "    \n",
    "      "
   ]
  },
  {
   "cell_type": "markdown",
   "metadata": {},
   "source": [
    "##### VoxelMorph"
   ]
  },
  {
   "cell_type": "code",
   "execution_count": 12,
   "metadata": {},
   "outputs": [],
   "source": [
    "# VoxelMorph Directory\n",
    "vxm_directory    = '/data/groups/beets-tan/l.estacio/Med_Align_Net/Jul31-053533_Abtrain_VXMx1___/'\n",
    "vxm_defGrid_dir  = vxm_directory + 'defGrid_figures/'\n",
    "image_paths   = get_file_paths(vxm_directory)\n",
    "img2_paths    = image_paths['img2.nii.gz']\n",
    "seg2_paths    = image_paths['seg2.nii.gz']\n",
    "w_img_paths   = image_paths['w_img.nii.gz']\n",
    "w_seg_paths   = image_paths['w_seg.nii.gz']\n",
    "flow_4d_paths = image_paths['flow_4d.nii.gz']\n",
    "\n",
    "img2_0_paths    = img2_paths[0]\n",
    "seg2_0_paths    = seg2_paths[0]\n",
    "w_img_0_paths   = w_img_paths[0]\n",
    "w_seg_0_paths   = w_seg_paths[0]\n",
    "flow_4d_0_paths = flow_4d_paths[0]\n",
    "\n",
    "img2_54_paths    = img2_paths[54]\n",
    "seg2_54_paths    = seg2_paths[54]\n",
    "w_img_54_paths   = w_img_paths[54]\n",
    "w_seg_54_paths   = w_seg_paths[54]\n",
    "flow_4d_54_paths = flow_4d_paths[54]"
   ]
  },
  {
   "cell_type": "code",
   "execution_count": 13,
   "metadata": {},
   "outputs": [
    {
     "name": "stdout",
     "output_type": "stream",
     "text": [
      "image:  (192, 160, 256)\n",
      "segm:  (192, 160, 256)\n",
      "warped img:  (192, 160, 256)\n",
      "warped segm:  (192, 160, 256)\n",
      "def_field_4d:  (192, 160, 256, 3)\n",
      "(160, 256)\n",
      "(192, 160)\n",
      "(192, 256)\n",
      "(192, 256)\n"
     ]
    }
   ],
   "source": [
    "main(img2_0_paths, seg2_0_paths, w_img_0_paths, w_seg_0_paths, flow_4d_0_paths, 'warped_image_with_grid_0.nii.gz')\n"
   ]
  },
  {
   "cell_type": "code",
   "execution_count": null,
   "metadata": {},
   "outputs": [],
   "source": [
    "main(img2_54_paths, seg2_54_paths, w_img_54_paths, w_seg_54_paths, flow_4d_54_paths, 'warped_image_with_grid_54.nii.gz')"
   ]
  },
  {
   "cell_type": "markdown",
   "metadata": {},
   "source": [
    "##### VTN"
   ]
  },
  {
   "cell_type": "code",
   "execution_count": null,
   "metadata": {},
   "outputs": [],
   "source": [
    "# VTN Directory\n",
    "vtn_directory    = '/data/groups/beets-tan/l.estacio/Med_Align_Net/Aug06-211340_Abtrain_VTNx3___/'\n",
    "vtn_defGrid_dir  = vtn_directory + 'defGrid_figures/'\n",
    "image_paths   = get_file_paths(vtn_directory)\n",
    "img2_paths    = image_paths['img2.nii.gz']\n",
    "seg2_paths    = image_paths['seg2.nii.gz']\n",
    "w_img_paths   = image_paths['w_img.nii.gz']\n",
    "w_seg_paths   = image_paths['w_seg.nii.gz']\n",
    "flow_4d_paths = image_paths['flow_4d.nii.gz']\n",
    "\n",
    "img2_0_paths    = img2_paths[0]\n",
    "seg2_0_paths    = seg2_paths[0]\n",
    "w_img_0_paths   = w_img_paths[0]\n",
    "w_seg_0_paths   = w_seg_paths[0]\n",
    "flow_4d_0_paths = flow_4d_paths[0]\n",
    "\n",
    "img2_54_paths    = img2_paths[54]\n",
    "seg2_54_paths    = seg2_paths[54]\n",
    "w_img_54_paths   = w_img_paths[54]\n",
    "w_seg_54_paths   = w_seg_paths[54]\n",
    "flow_4d_54_paths = flow_4d_paths[54]\n",
    "\n",
    "main(img2_0_paths, seg2_0_paths, w_img_0_paths, w_seg_0_paths, flow_4d_0_paths, 'warped_image_with_grid_0.nii.gz')\n"
   ]
  },
  {
   "cell_type": "code",
   "execution_count": null,
   "metadata": {},
   "outputs": [],
   "source": [
    "main(img2_54_paths, seg2_54_paths, w_img_54_paths, w_seg_54_paths, flow_4d_54_paths, 'warped_image_with_grid_54.nii.gz')"
   ]
  },
  {
   "cell_type": "markdown",
   "metadata": {},
   "source": [
    "##### TSM"
   ]
  },
  {
   "cell_type": "code",
   "execution_count": null,
   "metadata": {},
   "outputs": [],
   "source": [
    "# TSM Directory\n",
    "tsm_directory    = '/data/groups/beets-tan/l.estacio/Med_Align_Net/Aug07-042242_Abtrain_TSMx1___/'\n",
    "tsm_defGrid_dir  = tsm_directory + 'defGrid_figures/'\n",
    "image_paths   = get_file_paths(tsm_directory)\n",
    "img2_paths    = image_paths['img2.nii.gz']\n",
    "seg2_paths    = image_paths['seg2.nii.gz']\n",
    "w_img_paths   = image_paths['w_img.nii.gz']\n",
    "w_seg_paths   = image_paths['w_seg.nii.gz']\n",
    "flow_4d_paths = image_paths['flow_4d.nii.gz']\n",
    "\n",
    "img2_0_paths    = img2_paths[0]\n",
    "seg2_0_paths    = seg2_paths[0]\n",
    "w_img_0_paths   = w_img_paths[0]\n",
    "w_seg_0_paths   = w_seg_paths[0]\n",
    "flow_4d_0_paths = flow_4d_paths[0]\n",
    "\n",
    "img2_54_paths    = img2_paths[54]\n",
    "seg2_54_paths    = seg2_paths[54]\n",
    "w_img_54_paths   = w_img_paths[54]\n",
    "w_seg_54_paths   = w_seg_paths[54]\n",
    "flow_4d_54_paths = flow_4d_paths[54]\n",
    "main(img2_0_paths, seg2_0_paths, w_img_0_paths, w_seg_0_paths, flow_4d_0_paths, 'warped_image_with_grid_0.nii.gz')"
   ]
  },
  {
   "cell_type": "code",
   "execution_count": null,
   "metadata": {},
   "outputs": [],
   "source": [
    "main(img2_54_paths, seg2_54_paths, w_img_54_paths, w_seg_54_paths, flow_4d_54_paths, 'warped_image_with_grid_54.nii.gz')"
   ]
  },
  {
   "cell_type": "markdown",
   "metadata": {},
   "source": [
    "#### ALN V1"
   ]
  },
  {
   "cell_type": "code",
   "execution_count": null,
   "metadata": {},
   "outputs": [],
   "source": [
    "\n",
    "aln_directory    = '/data/groups/beets-tan/l.estacio/Med_Align_Net/Aug12-033920_Abtrain_ALNx1___/'\n",
    "aln_defGrid_dir  = aln_directory + 'defGrid_figures/'\n",
    "image_paths   = get_file_paths(aln_directory)\n",
    "img2_paths    = image_paths['img2.nii.gz']\n",
    "seg2_paths    = image_paths['seg2.nii.gz']\n",
    "w_img_paths   = image_paths['w_img.nii.gz']\n",
    "w_seg_paths   = image_paths['w_seg.nii.gz']\n",
    "flow_4d_paths = image_paths['flow_4d.nii.gz']\n",
    "\n",
    "img2_0_paths    = img2_paths[0]\n",
    "seg2_0_paths    = seg2_paths[0]\n",
    "w_img_0_paths   = w_img_paths[0]\n",
    "w_seg_0_paths   = w_seg_paths[0]\n",
    "flow_4d_0_paths = flow_4d_paths[0]\n",
    "\n",
    "img2_54_paths    = img2_paths[54]\n",
    "seg2_54_paths    = seg2_paths[54]\n",
    "w_img_54_paths   = w_img_paths[54]\n",
    "w_seg_54_paths   = w_seg_paths[54]\n",
    "flow_4d_54_paths = flow_4d_paths[54]\n",
    "main(img2_0_paths, seg2_0_paths, w_img_0_paths, w_seg_0_paths, flow_4d_0_paths, 'warped_image_with_grid_0.nii.gz')"
   ]
  },
  {
   "cell_type": "code",
   "execution_count": null,
   "metadata": {},
   "outputs": [],
   "source": [
    "main(img2_54_paths, seg2_54_paths, w_img_54_paths, w_seg_54_paths, flow_4d_54_paths, 'warped_image_with_grid_54.nii.gz')"
   ]
  },
  {
   "cell_type": "markdown",
   "metadata": {},
   "source": [
    "#### ALN V2"
   ]
  },
  {
   "cell_type": "code",
   "execution_count": null,
   "metadata": {},
   "outputs": [],
   "source": [
    "aln_directory    = '/data/groups/beets-tan/l.estacio/Med_Align_Net/Aug29-191908_Abtrain_ALNx3___/'\n",
    "aln_defGrid_dir  = aln_directory + 'defGrid_figures/'\n",
    "image_paths   = get_file_paths(aln_directory)\n",
    "img2_paths    = image_paths['img2.nii.gz']\n",
    "seg2_paths    = image_paths['seg2.nii.gz']\n",
    "w_img_paths   = image_paths['w_img.nii.gz']\n",
    "w_seg_paths   = image_paths['w_seg.nii.gz']\n",
    "flow_4d_paths = image_paths['flow_4d.nii.gz']\n",
    "\n",
    "img2_0_paths    = img2_paths[0]\n",
    "seg2_0_paths    = seg2_paths[0]\n",
    "w_img_0_paths   = w_img_paths[0]\n",
    "w_seg_0_paths   = w_seg_paths[0]\n",
    "flow_4d_0_paths = flow_4d_paths[0]\n",
    "\n",
    "img2_54_paths    = img2_paths[54]\n",
    "seg2_54_paths    = seg2_paths[54]\n",
    "w_img_54_paths   = w_img_paths[54]\n",
    "w_seg_54_paths   = w_seg_paths[54]\n",
    "flow_4d_54_paths = flow_4d_paths[54]\n",
    "main(img2_0_paths, seg2_0_paths, w_img_0_paths, w_seg_0_paths, flow_4d_0_paths, 'warped_image_with_grid_0.nii.gz')"
   ]
  },
  {
   "cell_type": "code",
   "execution_count": null,
   "metadata": {},
   "outputs": [],
   "source": [
    "main(img2_54_paths, seg2_54_paths, w_img_54_paths, w_seg_54_paths, flow_4d_54_paths, 'warped_image_with_grid_54.nii.gz')"
   ]
  },
  {
   "cell_type": "markdown",
   "metadata": {},
   "source": [
    "#### Elastix"
   ]
  },
  {
   "cell_type": "code",
   "execution_count": 32,
   "metadata": {},
   "outputs": [],
   "source": [
    "def load_nifti_image(file_path):\n",
    "    nii   = nib.load(file_path)\n",
    "    image = nii.get_fdata()\n",
    "    return image, nii.affine"
   ]
  },
  {
   "cell_type": "code",
   "execution_count": 42,
   "metadata": {},
   "outputs": [
    {
     "name": "stdout",
     "output_type": "stream",
     "text": [
      "(192, 160, 256)\n",
      "ParameterObject (0x318ac40)\n",
      "  RTTI typeinfo:   elastix::ParameterObject\n",
      "  Reference Count: 1\n",
      "  Modified Time: 3997\n",
      "  Debug: Off\n",
      "  Object Name: \n",
      "  Observers: \n",
      "    none\n",
      "ParameterMap 0: \n",
      "  (AutomaticParameterEstimation \"true\")\n",
      "  (CheckNumberOfSamples \"true\")\n",
      "  (DefaultPixelValue 0)\n",
      "  (FinalBSplineInterpolationOrder 3)\n",
      "  (FinalGridSpacingInPhysicalUnits 8)\n",
      "  (FixedImagePyramid \"FixedSmoothingImagePyramid\")\n",
      "  (GridSpacingSchedule 2.80322 1.9881 1.41 1)\n",
      "  (ImageSampler \"RandomCoordinate\")\n",
      "  (Interpolator \"LinearInterpolator\")\n",
      "  (MaximumNumberOfIterations 256)\n",
      "  (MaximumNumberOfSamplingAttempts 8)\n",
      "  (Metric \"AdvancedMattesMutualInformation\" \"TransformBendingEnergyPenalty\")\n",
      "  (Metric0Weight 1)\n",
      "  (Metric1Weight 1)\n",
      "  (MovingImagePyramid \"MovingSmoothingImagePyramid\")\n",
      "  (NewSamplesEveryIteration \"true\")\n",
      "  (NumberOfResolutions 4)\n",
      "  (NumberOfSamplesForExactGradient 4096)\n",
      "  (NumberOfSpatialSamples 2048)\n",
      "  (Optimizer \"AdaptiveStochasticGradientDescent\")\n",
      "  (Registration \"MultiMetricMultiResolutionRegistration\")\n",
      "  (ResampleInterpolator \"FinalBSplineInterpolator\")\n",
      "  (Resampler \"DefaultResampler\")\n",
      "  (ResultImageFormat \"nii\")\n",
      "  (Transform \"BSplineTransform\")\n",
      "  (WriteIterationInfo \"false\")\n",
      "  (WriteResultImage \"true\")\n"
     ]
    }
   ],
   "source": [
    "import SimpleITK as sitk\n",
    "elx_directory    = '/data/groups/beets-tan/l.estacio/Med_Align_Net/elastix_Abd/'\n",
    "elx_defGrid_dir  = elx_directory + 'defGrid_figures/'\n",
    "image_paths   = get_file_paths(elx_directory)\n",
    "img1_paths    = image_paths['img1.nii.gz']\n",
    "img2_paths    = image_paths['img2.nii.gz']\n",
    "seg2_paths    = image_paths['seg2.nii.gz']\n",
    "w_img_paths   = image_paths['w_img.nii.gz']\n",
    "w_seg_paths   = image_paths['w_seg.nii.gz']\n",
    "flow_4d_paths = image_paths['flow_4d.nii.gz']\n",
    "\n",
    "img1_0_paths    = img1_paths[0]\n",
    "img2_0_paths    = img2_paths[0]\n",
    "seg2_0_paths    = seg2_paths[0]\n",
    "w_img_0_paths   = w_img_paths[0]\n",
    "w_seg_0_paths   = w_seg_paths[0]\n",
    "flow_4d_0_paths = flow_4d_paths[0]\n",
    "\n",
    "img1_0 = sitk.ReadImage(img1_0_paths) #load_nifti_image(img1_0_paths)\n",
    "img2_0 = sitk.ReadImage(img2_0_paths) #load_nifti_image(img1_0_paths)\n",
    "print(img1_0.GetSize())\n",
    "#img2_0,_ = load_nifti_image(img2_0_paths)\n",
    "\n",
    "#im_fixed = sitk.GetImageFromArray(img1_0) # 1 x 1 x 192 x 192 x 208 -----> 192 x 192 x 208 -----> 208 x 192 x 192\n",
    "#im_moving = sitk.GetImageFromArray(img2_0)\n",
    "\n",
    "# \n",
    "#elastixImageFilter = sitk.ElastixImageFilter()\n",
    "#elastixImageFilter.SetFixedImage(img1_0)\n",
    "#elastixImageFilter.SetMovingImage(img2_0)\n",
    "\n",
    "# Use default parameter map (elastix configuration for non-rigid registration)\n",
    "parameterMapVector = sitk.VectorOfParameterMap()\n",
    "defaultParameterMap = sitk.GetDefaultParameterMap(\"bspline\")\n",
    "#print(defaultParameterMap)\n",
    "sitk.PrintParameterMap(defaultParameterMap)\n",
    "#parameterMapVector.append(defaultParameterMap)\n",
    "#elastixImageFilter.SetParameterMap(parameterMapVector)\n",
    "#elastixImageFilter.SetParameterMap(parameterMapVector)\n",
    "#elastixImageFilter.SetOutputDirectory(elastix_output_dir)\n",
    "#elastixImageFilter.Execute()"
   ]
  },
  {
   "cell_type": "code",
   "execution_count": null,
   "metadata": {},
   "outputs": [],
   "source": [
    "# VoxelMorph Directory\n",
    "elx_directory    = '/data/groups/beets-tan/l.estacio/Med_Align_Net/elastix_Abd/'\n",
    "elx_defGrid_dir  = elx_directory + 'defGrid_figures/'\n",
    "image_paths   = get_file_paths(elx_directory)\n",
    "img2_paths    = image_paths['img2.nii.gz']\n",
    "seg2_paths    = image_paths['seg2.nii.gz']\n",
    "w_img_paths   = image_paths['w_img.nii.gz']\n",
    "w_seg_paths   = image_paths['w_seg.nii.gz']\n",
    "flow_4d_paths = image_paths['flow_4d.nii.gz']\n",
    "\n",
    "img2_0_paths    = img2_paths[0]\n",
    "seg2_0_paths    = seg2_paths[0]\n",
    "w_img_0_paths   = w_img_paths[0]\n",
    "w_seg_0_paths   = w_seg_paths[0]\n",
    "flow_4d_0_paths = flow_4d_paths[0]\n",
    "\n",
    "img2_54_paths    = img2_paths[54]\n",
    "seg2_54_paths    = seg2_paths[54]\n",
    "w_img_54_paths   = w_img_paths[54]\n",
    "w_seg_54_paths   = w_seg_paths[54]\n",
    "flow_4d_54_paths = flow_4d_paths[54]\n",
    "main(img2_0_paths, seg2_0_paths, w_img_0_paths, w_seg_0_paths, flow_4d_0_paths, 'warped_image_with_grid_0.nii.gz')"
   ]
  },
  {
   "cell_type": "code",
   "execution_count": null,
   "metadata": {},
   "outputs": [],
   "source": [
    "main(img2_54_paths, seg2_54_paths, w_img_54_paths, w_seg_54_paths, flow_4d_54_paths, 'warped_image_with_grid_54.nii.gz')"
   ]
  },
  {
   "cell_type": "markdown",
   "metadata": {},
   "source": [
    "#### ANTs"
   ]
  },
  {
   "cell_type": "code",
   "execution_count": null,
   "metadata": {},
   "outputs": [],
   "source": [
    "# ANTs Directory\n",
    "ant_directory    = '/data/groups/beets-tan/l.estacio/Med_Align_Net/ants_Abd/'\n",
    "ant_defGrid_dir  = ant_directory + 'defGrid_figures/'\n",
    "image_paths   = get_file_paths(ant_directory)\n",
    "img2_paths    = image_paths['img2.nii.gz']\n",
    "seg2_paths    = image_paths['seg2.nii.gz']\n",
    "w_img_paths   = image_paths['w_img.nii.gz']\n",
    "w_seg_paths   = image_paths['w_seg.nii.gz']\n",
    "flow_4d_paths = image_paths['flow_4d.nii.gz']\n",
    "\n",
    "img2_0_paths    = img2_paths[0]\n",
    "seg2_0_paths    = seg2_paths[0]\n",
    "w_img_0_paths   = w_img_paths[0]\n",
    "w_seg_0_paths   = w_seg_paths[0]\n",
    "flow_4d_0_paths = flow_4d_paths[0]\n",
    "\n",
    "img2_54_paths    = img2_paths[54]\n",
    "seg2_54_paths    = seg2_paths[54]\n",
    "w_img_54_paths   = w_img_paths[54]\n",
    "w_seg_54_paths   = w_seg_paths[54]\n",
    "flow_4d_54_paths = flow_4d_paths[54]\n",
    "main(img2_0_paths, seg2_0_paths, w_img_0_paths, w_seg_0_paths, flow_4d_0_paths, 'warped_image_with_grid_0.nii.gz')"
   ]
  },
  {
   "cell_type": "code",
   "execution_count": null,
   "metadata": {},
   "outputs": [],
   "source": [
    "main(img2_54_paths, seg2_54_paths, w_img_54_paths, w_seg_54_paths, flow_4d_54_paths, 'warped_image_with_grid_54.nii.gz')"
   ]
  }
 ],
 "metadata": {
  "kernelspec": {
   "display_name": "pytorch",
   "language": "python",
   "name": "python3"
  },
  "language_info": {
   "codemirror_mode": {
    "name": "ipython",
    "version": 3
   },
   "file_extension": ".py",
   "mimetype": "text/x-python",
   "name": "python",
   "nbconvert_exporter": "python",
   "pygments_lexer": "ipython3",
   "version": "3.10.11"
  }
 },
 "nbformat": 4,
 "nbformat_minor": 2
}
